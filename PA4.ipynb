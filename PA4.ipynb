{
 "cells": [
  {
   "cell_type": "markdown",
   "id": "7ac68859",
   "metadata": {},
   "source": [
    "# Programming Assignment 4\n",
    "### Harrison Gilbert\n",
    "### Version 1\n",
    "### Fall 2023"
   ]
  },
  {
   "cell_type": "markdown",
   "id": "7de1d689",
   "metadata": {},
   "source": [
    "## Task 1: Grade Calculator\n",
    "### A. Create a list named grades containing five numerical grades (0-100)."
   ]
  },
  {
   "cell_type": "code",
   "execution_count": 1,
   "id": "eb5d771d",
   "metadata": {},
   "outputs": [],
   "source": [
    "grades = [23,67,82,84,93]"
   ]
  },
  {
   "cell_type": "markdown",
   "id": "d3c89d9d",
   "metadata": {},
   "source": [
    "### B. Calculate the average grade from the list."
   ]
  },
  {
   "cell_type": "code",
   "execution_count": 5,
   "id": "cb09d8ec",
   "metadata": {},
   "outputs": [
    {
     "name": "stdout",
     "output_type": "stream",
     "text": [
      "The average grade is 69.8\n"
     ]
    }
   ],
   "source": [
    "average = 0\n",
    "for grade in grades:\n",
    "    average = average + grade\n",
    "average = average/len(grades)\n",
    "print(f\"The average grade is {average}\")"
   ]
  },
  {
   "cell_type": "markdown",
   "id": "3e8b5f70",
   "metadata": {},
   "source": [
    "### C. Use an if-else condition to determine the letter grade based on the average as follows:\n",
    "- 90-100: \"A\"\n",
    "- 80-89: \"B\"\n",
    "- 70-79: \"C\"\n",
    "- 60-69: \"D\"\n",
    "- Below 60: \"F\"\n",
    "### Print the average grade and corresponding letter grade."
   ]
  },
  {
   "cell_type": "code",
   "execution_count": 6,
   "id": "58834a33",
   "metadata": {},
   "outputs": [
    {
     "name": "stdout",
     "output_type": "stream",
     "text": [
      "The average grade is 69.8\n",
      "D\n"
     ]
    }
   ],
   "source": [
    "print(f\"The average grade is {average}\")\n",
    "if average >= 90:\n",
    "    print(\"A\")\n",
    "elif average >= 80:\n",
    "    print(\"B\")\n",
    "elif average >= 70:\n",
    "    print(\"C\")\n",
    "elif average >= 60:\n",
    "    print(\"D\")\n",
    "else:\n",
    "    print(\"F\")"
   ]
  },
  {
   "cell_type": "markdown",
   "id": "4dd1ad22",
   "metadata": {},
   "source": [
    "## Task 2: Tuple Unpacking\n",
    "### A. Create a tuple named student with your first name, last name, age, and a subject (in that order)."
   ]
  },
  {
   "cell_type": "code",
   "execution_count": 12,
   "id": "84e06908",
   "metadata": {},
   "outputs": [],
   "source": [
    "student = (\"Harrison\", \"Gilbert\", 18, \"Computer Science\")"
   ]
  },
  {
   "cell_type": "markdown",
   "id": "46ddb7b6",
   "metadata": {},
   "source": [
    "### B. Use tuple unpacking and an if-else condition to check if the student's age is above 18.\n",
    "### C. If the age is above 18, print a message indicating that the student is an adult, otherwise print a message indicating that the student is a minor"
   ]
  },
  {
   "cell_type": "code",
   "execution_count": 16,
   "id": "8d001c8b",
   "metadata": {},
   "outputs": [
    {
     "name": "stdout",
     "output_type": "stream",
     "text": [
      "Student is an adult.\n"
     ]
    }
   ],
   "source": [
    "if student[2] >= 18:\n",
    "    print(\"Student is an adult.\")\n",
    "else:\n",
    "    print(\"Student is a minor.\")\n",
    "        "
   ]
  },
  {
   "cell_type": "markdown",
   "id": "aad5b804",
   "metadata": {},
   "source": [
    "## Task 3: Month and Date\n",
    "### Write a Python program that will accept a number from 1 to 12 and display the name of the month and days in the month. Consider that the year is a regular year."
   ]
  },
  {
   "cell_type": "code",
   "execution_count": 32,
   "id": "bfd7a8a8",
   "metadata": {},
   "outputs": [
    {
     "name": "stdout",
     "output_type": "stream",
     "text": [
      "Enter a number from 1 to 12: 13\n",
      "Please enter a valid number.\n"
     ]
    }
   ],
   "source": [
    "month = int(input(\"Enter a number from 1 to 12: \"))\n",
    "if month > 12 or month < 1:\n",
    "    print(\"Please enter a valid number.\")\n",
    "else: \n",
    "    if month == 1:\n",
    "        print(\"January, 31 days.\")\n",
    "    elif month == 2:\n",
    "        print(\"Febuary, 28 days.\")\n",
    "    elif month == 3:\n",
    "        print(\"March, 31 days.\")\n",
    "    elif month == 4:\n",
    "        print(\"April, 31 days.\")\n",
    "    elif month == 5:\n",
    "        print(\"May, 31 days.\")\n",
    "    elif month == 6:\n",
    "        print(\"June, 31 days.\")\n",
    "    elif month == 7:\n",
    "        print(\"July, 31 days\")\n",
    "    elif month == 8:\n",
    "        print(\"Augest, 31 days\")\n",
    "    elif month == 9:\n",
    "        print(\"September, 30 days\")\n",
    "    elif month == 10:\n",
    "        print(\"October, 31 days\")\n",
    "    elif month == 11:\n",
    "        print(\"November, 30 days.\")\n",
    "    else:\n",
    "        print(\"December, 31 days.\")"
   ]
  },
  {
   "cell_type": "markdown",
   "id": "9578f780",
   "metadata": {},
   "source": [
    "## Task 4: Triangle\n",
    "### Accept three sides of a triangle and check whether it is an equilateral, isosceles, or scalene triangle."
   ]
  },
  {
   "cell_type": "code",
   "execution_count": 36,
   "id": "2b93a98f",
   "metadata": {},
   "outputs": [
    {
     "name": "stdout",
     "output_type": "stream",
     "text": [
      "Enter the length of side 1: 3\n",
      "Enter the length of side 2: 2\n",
      "Enter the length of side 3: 3\n",
      "It is an isosceles triangle.\n"
     ]
    }
   ],
   "source": [
    "side1 = int(input(\"Enter the length of side 1: \"))\n",
    "side2 = int(input(\"Enter the length of side 2: \"))\n",
    "side3 = int(input(\"Enter the length of side 3: \"))\n",
    "if side1 == side2 and side2 == side3:\n",
    "    print(\"It is an equilateral triangle.\")\n",
    "elif side1 == side2 or side1 == side3 or side2 == side3:\n",
    "    print(\"It is an isosceles triangle.\")\n",
    "else:\n",
    "    print(\"It is a scalene triangle.\")"
   ]
  },
  {
   "cell_type": "markdown",
   "id": "409afa71",
   "metadata": {},
   "source": [
    "## Task 5: List Comprehension and Filtering\n",
    "### A. Create a list of named numbers containing integers from 21 to 40"
   ]
  },
  {
   "cell_type": "code",
   "execution_count": 37,
   "id": "76371dac",
   "metadata": {},
   "outputs": [],
   "source": [
    "numbers = [21, 22, 23, 24, 25, 26, 27, 28, 29, 30, 31, 32, 33, 34, 35, 36, 37, 38, 39, 40]"
   ]
  },
  {
   "cell_type": "markdown",
   "id": "e7fd1ff6",
   "metadata": {},
   "source": [
    "### B. Use list comprehension to create a new list named even_squares containing the squares of even numbers from numbers."
   ]
  },
  {
   "cell_type": "code",
   "execution_count": 39,
   "id": "f7367fc0",
   "metadata": {},
   "outputs": [
    {
     "name": "stdout",
     "output_type": "stream",
     "text": [
      "[484, 576, 676, 784, 900, 1024, 1156, 1296, 1444, 1600]\n"
     ]
    }
   ],
   "source": [
    "even_squares = []\n",
    "for nums in numbers:\n",
    "    if nums%2==0:\n",
    "        even_squares.append(nums**2)\n",
    "print(even_squares)"
   ]
  },
  {
   "cell_type": "markdown",
   "id": "a404d830",
   "metadata": {},
   "source": [
    "### C. Use list comprehension to create a new list named odd_cubes containing the cubes of odd numbers from numbers"
   ]
  },
  {
   "cell_type": "code",
   "execution_count": 40,
   "id": "a8a6aefe",
   "metadata": {},
   "outputs": [
    {
     "name": "stdout",
     "output_type": "stream",
     "text": [
      "[9261, 12167, 15625, 19683, 24389, 29791, 35937, 42875, 50653, 59319]\n"
     ]
    }
   ],
   "source": [
    "odd_cubes = []\n",
    "for nums in numbers:\n",
    "    if nums%2 != 0:\n",
    "        odd_cubes.append(nums**3)\n",
    "print(odd_cubes)"
   ]
  }
 ],
 "metadata": {
  "kernelspec": {
   "display_name": "Python 3 (ipykernel)",
   "language": "python",
   "name": "python3"
  },
  "language_info": {
   "codemirror_mode": {
    "name": "ipython",
    "version": 3
   },
   "file_extension": ".py",
   "mimetype": "text/x-python",
   "name": "python",
   "nbconvert_exporter": "python",
   "pygments_lexer": "ipython3",
   "version": "3.11.4"
  }
 },
 "nbformat": 4,
 "nbformat_minor": 5
}
